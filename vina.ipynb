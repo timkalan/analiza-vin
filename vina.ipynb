{
 "cells": [
  {
   "cell_type": "markdown",
   "metadata": {},
   "source": [
    "# Analiza vin\n",
    "\n",
    "V zvezku so predstavljeni rezultati analize podatkov o vinu s strani [Wine Library](https://winelibrary.com/search?page=1&search=).\n",
    "\n",
    "###### Za vsako vino smo zajeli:\n",
    "* ime vina\n",
    "* zaporedna številka (id) vina\n",
    "* sorta vina\n",
    "* država izvora\n",
    "* leto ustekleničenja\n",
    "* prostornina buteljke\n",
    "* položaj na lestvici popularnosti\n",
    "* ocena profesionalca\n",
    "* cena (in popust)\n",
    "* opis\n",
    "* kratka recenzija\n",
    "* regija in podregija\n",
    "* barva \n",
    "* procent alkohola\n",
    "* način zapiranja buteljke\n",
    "* okus in vonj\n",
    "\n",
    "##### Hipoteze in vprašanja:\n",
    "* Najboljša vina so daleč od najbolj popularnih\n",
    "* 750ml je najbolj popularna in najbolje ocenjena velikost buteljke\n",
    "* Katero leto je bilo najboljše za vino?\n",
    "* Katera država je \"najboljša\", kar se tiče vin?\n",
    "* Katera je najbolj popularna sorta?\n",
    "* Kateri okusi so najbolj priljubljeni?\n",
    "* Ljudje preferirajo belo vino"
   ]
  },
  {
   "cell_type": "markdown",
   "metadata": {},
   "source": [
    "## Uvoz in predobdelava"
   ]
  },
  {
   "cell_type": "code",
   "execution_count": 1,
   "metadata": {},
   "outputs": [],
   "source": [
    "# naložimo vse potrebne knjižnice\n",
    "import pandas as pd\n",
    "import matplotlib.pyplot as plt\n",
    "\n",
    "# za izrisovanje grafov\n",
    "%matplotlib inline"
   ]
  },
  {
   "cell_type": "code",
   "execution_count": 2,
   "metadata": {},
   "outputs": [],
   "source": [
    "# preberemo naše podatke\n",
    "vina = pd.read_csv('obdelani_podatki/vina.csv')\n",
    "detajli = pd.read_csv('obdelani_podatki/detajli.csv')\n",
    "okusi = pd.read_csv('obdelani_podatki/okusi.csv')\n",
    "vonjave = pd.read_csv('obdelani_podatki/vonjave.csv')"
   ]
  },
  {
   "cell_type": "code",
   "execution_count": 3,
   "metadata": {
    "scrolled": false
   },
   "outputs": [
    {
     "data": {
      "text/html": [
       "<div>\n",
       "<style scoped>\n",
       "    .dataframe tbody tr th:only-of-type {\n",
       "        vertical-align: middle;\n",
       "    }\n",
       "\n",
       "    .dataframe tbody tr th {\n",
       "        vertical-align: top;\n",
       "    }\n",
       "\n",
       "    .dataframe thead th {\n",
       "        text-align: right;\n",
       "    }\n",
       "</style>\n",
       "<table border=\"1\" class=\"dataframe\">\n",
       "  <thead>\n",
       "    <tr style=\"text-align: right;\">\n",
       "      <th></th>\n",
       "      <th>leto</th>\n",
       "      <th>ime</th>\n",
       "      <th>sorta</th>\n",
       "      <th>drzava</th>\n",
       "      <th>velikost</th>\n",
       "      <th>znizana_cena</th>\n",
       "      <th>cena</th>\n",
       "      <th>ocena</th>\n",
       "      <th>ocenjevalec</th>\n",
       "      <th>okus</th>\n",
       "      <th>vonj</th>\n",
       "      <th>regija</th>\n",
       "      <th>podregija</th>\n",
       "      <th>barva</th>\n",
       "      <th>alkohol</th>\n",
       "      <th>zamasek</th>\n",
       "      <th>opis</th>\n",
       "      <th>recenzija</th>\n",
       "      <th>popularnost</th>\n",
       "    </tr>\n",
       "    <tr>\n",
       "      <th>id</th>\n",
       "      <th></th>\n",
       "      <th></th>\n",
       "      <th></th>\n",
       "      <th></th>\n",
       "      <th></th>\n",
       "      <th></th>\n",
       "      <th></th>\n",
       "      <th></th>\n",
       "      <th></th>\n",
       "      <th></th>\n",
       "      <th></th>\n",
       "      <th></th>\n",
       "      <th></th>\n",
       "      <th></th>\n",
       "      <th></th>\n",
       "      <th></th>\n",
       "      <th></th>\n",
       "      <th></th>\n",
       "      <th></th>\n",
       "    </tr>\n",
       "  </thead>\n",
       "  <tbody>\n",
       "    <tr>\n",
       "      <th>119920</th>\n",
       "      <td>2019.0</td>\n",
       "      <td>Julien Sunier Regnie</td>\n",
       "      <td>Gamay</td>\n",
       "      <td>France</td>\n",
       "      <td>750</td>\n",
       "      <td>28.99</td>\n",
       "      <td>35.99</td>\n",
       "      <td>NaN</td>\n",
       "      <td>NaN</td>\n",
       "      <td>cherry</td>\n",
       "      <td>violet</td>\n",
       "      <td>Beaujolais</td>\n",
       "      <td>Beaujolais Cru</td>\n",
       "      <td>Red</td>\n",
       "      <td>NaN</td>\n",
       "      <td>Cork</td>\n",
       "      <td>This Beaujolais’ cru, often underestimated, do...</td>\n",
       "      <td>NaN</td>\n",
       "      <td>1426</td>\n",
       "    </tr>\n",
       "    <tr>\n",
       "      <th>119920</th>\n",
       "      <td>2019.0</td>\n",
       "      <td>Julien Sunier Regnie</td>\n",
       "      <td>Gamay</td>\n",
       "      <td>France</td>\n",
       "      <td>750</td>\n",
       "      <td>28.99</td>\n",
       "      <td>35.99</td>\n",
       "      <td>NaN</td>\n",
       "      <td>NaN</td>\n",
       "      <td>cherry</td>\n",
       "      <td>rose</td>\n",
       "      <td>Beaujolais</td>\n",
       "      <td>Beaujolais Cru</td>\n",
       "      <td>Red</td>\n",
       "      <td>NaN</td>\n",
       "      <td>Cork</td>\n",
       "      <td>This Beaujolais’ cru, often underestimated, do...</td>\n",
       "      <td>NaN</td>\n",
       "      <td>1426</td>\n",
       "    </tr>\n",
       "    <tr>\n",
       "      <th>119920</th>\n",
       "      <td>2019.0</td>\n",
       "      <td>Julien Sunier Regnie</td>\n",
       "      <td>Gamay</td>\n",
       "      <td>France</td>\n",
       "      <td>750</td>\n",
       "      <td>28.99</td>\n",
       "      <td>35.99</td>\n",
       "      <td>NaN</td>\n",
       "      <td>NaN</td>\n",
       "      <td>cherry</td>\n",
       "      <td>petal</td>\n",
       "      <td>Beaujolais</td>\n",
       "      <td>Beaujolais Cru</td>\n",
       "      <td>Red</td>\n",
       "      <td>NaN</td>\n",
       "      <td>Cork</td>\n",
       "      <td>This Beaujolais’ cru, often underestimated, do...</td>\n",
       "      <td>NaN</td>\n",
       "      <td>1426</td>\n",
       "    </tr>\n",
       "    <tr>\n",
       "      <th>119920</th>\n",
       "      <td>2019.0</td>\n",
       "      <td>Julien Sunier Regnie</td>\n",
       "      <td>Gamay</td>\n",
       "      <td>France</td>\n",
       "      <td>750</td>\n",
       "      <td>28.99</td>\n",
       "      <td>35.99</td>\n",
       "      <td>NaN</td>\n",
       "      <td>NaN</td>\n",
       "      <td>cherry</td>\n",
       "      <td>oak</td>\n",
       "      <td>Beaujolais</td>\n",
       "      <td>Beaujolais Cru</td>\n",
       "      <td>Red</td>\n",
       "      <td>NaN</td>\n",
       "      <td>Cork</td>\n",
       "      <td>This Beaujolais’ cru, often underestimated, do...</td>\n",
       "      <td>NaN</td>\n",
       "      <td>1426</td>\n",
       "    </tr>\n",
       "    <tr>\n",
       "      <th>119920</th>\n",
       "      <td>2019.0</td>\n",
       "      <td>Julien Sunier Regnie</td>\n",
       "      <td>Gamay</td>\n",
       "      <td>France</td>\n",
       "      <td>750</td>\n",
       "      <td>28.99</td>\n",
       "      <td>35.99</td>\n",
       "      <td>NaN</td>\n",
       "      <td>NaN</td>\n",
       "      <td>cherry</td>\n",
       "      <td>smoke</td>\n",
       "      <td>Beaujolais</td>\n",
       "      <td>Beaujolais Cru</td>\n",
       "      <td>Red</td>\n",
       "      <td>NaN</td>\n",
       "      <td>Cork</td>\n",
       "      <td>This Beaujolais’ cru, often underestimated, do...</td>\n",
       "      <td>NaN</td>\n",
       "      <td>1426</td>\n",
       "    </tr>\n",
       "    <tr>\n",
       "      <th>...</th>\n",
       "      <td>...</td>\n",
       "      <td>...</td>\n",
       "      <td>...</td>\n",
       "      <td>...</td>\n",
       "      <td>...</td>\n",
       "      <td>...</td>\n",
       "      <td>...</td>\n",
       "      <td>...</td>\n",
       "      <td>...</td>\n",
       "      <td>...</td>\n",
       "      <td>...</td>\n",
       "      <td>...</td>\n",
       "      <td>...</td>\n",
       "      <td>...</td>\n",
       "      <td>...</td>\n",
       "      <td>...</td>\n",
       "      <td>...</td>\n",
       "      <td>...</td>\n",
       "      <td>...</td>\n",
       "    </tr>\n",
       "    <tr>\n",
       "      <th>115878</th>\n",
       "      <td>2016.0</td>\n",
       "      <td>Casa Piena Cabernet Sauvignon</td>\n",
       "      <td>Cabernet Sauvignon</td>\n",
       "      <td>United States</td>\n",
       "      <td>750</td>\n",
       "      <td>139.99</td>\n",
       "      <td>174.99</td>\n",
       "      <td>96.0</td>\n",
       "      <td>Antonio Galloni - Vinous</td>\n",
       "      <td>vanilla</td>\n",
       "      <td>blackberry</td>\n",
       "      <td>California</td>\n",
       "      <td>Napa</td>\n",
       "      <td>Red</td>\n",
       "      <td>14.7</td>\n",
       "      <td>Cork</td>\n",
       "      <td>2016 was a particularly giving vintage for Cas...</td>\n",
       "      <td>Casa Piena's 2016 Cabernet Sauvignon has turne...</td>\n",
       "      <td>1425</td>\n",
       "    </tr>\n",
       "    <tr>\n",
       "      <th>115878</th>\n",
       "      <td>2016.0</td>\n",
       "      <td>Casa Piena Cabernet Sauvignon</td>\n",
       "      <td>Cabernet Sauvignon</td>\n",
       "      <td>United States</td>\n",
       "      <td>750</td>\n",
       "      <td>139.99</td>\n",
       "      <td>174.99</td>\n",
       "      <td>96.0</td>\n",
       "      <td>Antonio Galloni - Vinous</td>\n",
       "      <td>vanilla</td>\n",
       "      <td>cherry</td>\n",
       "      <td>California</td>\n",
       "      <td>Napa</td>\n",
       "      <td>Red</td>\n",
       "      <td>14.7</td>\n",
       "      <td>Cork</td>\n",
       "      <td>2016 was a particularly giving vintage for Cas...</td>\n",
       "      <td>Casa Piena's 2016 Cabernet Sauvignon has turne...</td>\n",
       "      <td>1425</td>\n",
       "    </tr>\n",
       "    <tr>\n",
       "      <th>115878</th>\n",
       "      <td>2016.0</td>\n",
       "      <td>Casa Piena Cabernet Sauvignon</td>\n",
       "      <td>Cabernet Sauvignon</td>\n",
       "      <td>United States</td>\n",
       "      <td>750</td>\n",
       "      <td>139.99</td>\n",
       "      <td>174.99</td>\n",
       "      <td>96.0</td>\n",
       "      <td>Antonio Galloni - Vinous</td>\n",
       "      <td>vanilla</td>\n",
       "      <td>cedar</td>\n",
       "      <td>California</td>\n",
       "      <td>Napa</td>\n",
       "      <td>Red</td>\n",
       "      <td>14.7</td>\n",
       "      <td>Cork</td>\n",
       "      <td>2016 was a particularly giving vintage for Cas...</td>\n",
       "      <td>Casa Piena's 2016 Cabernet Sauvignon has turne...</td>\n",
       "      <td>1425</td>\n",
       "    </tr>\n",
       "    <tr>\n",
       "      <th>115878</th>\n",
       "      <td>2016.0</td>\n",
       "      <td>Casa Piena Cabernet Sauvignon</td>\n",
       "      <td>Cabernet Sauvignon</td>\n",
       "      <td>United States</td>\n",
       "      <td>750</td>\n",
       "      <td>139.99</td>\n",
       "      <td>174.99</td>\n",
       "      <td>96.0</td>\n",
       "      <td>Antonio Galloni - Vinous</td>\n",
       "      <td>vanilla</td>\n",
       "      <td>cigar</td>\n",
       "      <td>California</td>\n",
       "      <td>Napa</td>\n",
       "      <td>Red</td>\n",
       "      <td>14.7</td>\n",
       "      <td>Cork</td>\n",
       "      <td>2016 was a particularly giving vintage for Cas...</td>\n",
       "      <td>Casa Piena's 2016 Cabernet Sauvignon has turne...</td>\n",
       "      <td>1425</td>\n",
       "    </tr>\n",
       "    <tr>\n",
       "      <th>115878</th>\n",
       "      <td>2016.0</td>\n",
       "      <td>Casa Piena Cabernet Sauvignon</td>\n",
       "      <td>Cabernet Sauvignon</td>\n",
       "      <td>United States</td>\n",
       "      <td>750</td>\n",
       "      <td>139.99</td>\n",
       "      <td>174.99</td>\n",
       "      <td>96.0</td>\n",
       "      <td>Antonio Galloni - Vinous</td>\n",
       "      <td>vanilla</td>\n",
       "      <td>box</td>\n",
       "      <td>California</td>\n",
       "      <td>Napa</td>\n",
       "      <td>Red</td>\n",
       "      <td>14.7</td>\n",
       "      <td>Cork</td>\n",
       "      <td>2016 was a particularly giving vintage for Cas...</td>\n",
       "      <td>Casa Piena's 2016 Cabernet Sauvignon has turne...</td>\n",
       "      <td>1425</td>\n",
       "    </tr>\n",
       "  </tbody>\n",
       "</table>\n",
       "<p>346730 rows × 19 columns</p>\n",
       "</div>"
      ],
      "text/plain": [
       "          leto                            ime               sorta  \\\n",
       "id                                                                  \n",
       "119920  2019.0           Julien Sunier Regnie               Gamay   \n",
       "119920  2019.0           Julien Sunier Regnie               Gamay   \n",
       "119920  2019.0           Julien Sunier Regnie               Gamay   \n",
       "119920  2019.0           Julien Sunier Regnie               Gamay   \n",
       "119920  2019.0           Julien Sunier Regnie               Gamay   \n",
       "...        ...                            ...                 ...   \n",
       "115878  2016.0  Casa Piena Cabernet Sauvignon  Cabernet Sauvignon   \n",
       "115878  2016.0  Casa Piena Cabernet Sauvignon  Cabernet Sauvignon   \n",
       "115878  2016.0  Casa Piena Cabernet Sauvignon  Cabernet Sauvignon   \n",
       "115878  2016.0  Casa Piena Cabernet Sauvignon  Cabernet Sauvignon   \n",
       "115878  2016.0  Casa Piena Cabernet Sauvignon  Cabernet Sauvignon   \n",
       "\n",
       "               drzava  velikost  znizana_cena    cena  ocena  \\\n",
       "id                                                             \n",
       "119920         France       750         28.99   35.99    NaN   \n",
       "119920         France       750         28.99   35.99    NaN   \n",
       "119920         France       750         28.99   35.99    NaN   \n",
       "119920         France       750         28.99   35.99    NaN   \n",
       "119920         France       750         28.99   35.99    NaN   \n",
       "...               ...       ...           ...     ...    ...   \n",
       "115878  United States       750        139.99  174.99   96.0   \n",
       "115878  United States       750        139.99  174.99   96.0   \n",
       "115878  United States       750        139.99  174.99   96.0   \n",
       "115878  United States       750        139.99  174.99   96.0   \n",
       "115878  United States       750        139.99  174.99   96.0   \n",
       "\n",
       "                     ocenjevalec     okus        vonj      regija  \\\n",
       "id                                                                  \n",
       "119920                       NaN   cherry      violet  Beaujolais   \n",
       "119920                       NaN   cherry        rose  Beaujolais   \n",
       "119920                       NaN   cherry       petal  Beaujolais   \n",
       "119920                       NaN   cherry         oak  Beaujolais   \n",
       "119920                       NaN   cherry       smoke  Beaujolais   \n",
       "...                          ...      ...         ...         ...   \n",
       "115878  Antonio Galloni - Vinous  vanilla  blackberry  California   \n",
       "115878  Antonio Galloni - Vinous  vanilla      cherry  California   \n",
       "115878  Antonio Galloni - Vinous  vanilla       cedar  California   \n",
       "115878  Antonio Galloni - Vinous  vanilla       cigar  California   \n",
       "115878  Antonio Galloni - Vinous  vanilla         box  California   \n",
       "\n",
       "             podregija barva  alkohol zamasek  \\\n",
       "id                                              \n",
       "119920  Beaujolais Cru   Red      NaN    Cork   \n",
       "119920  Beaujolais Cru   Red      NaN    Cork   \n",
       "119920  Beaujolais Cru   Red      NaN    Cork   \n",
       "119920  Beaujolais Cru   Red      NaN    Cork   \n",
       "119920  Beaujolais Cru   Red      NaN    Cork   \n",
       "...                ...   ...      ...     ...   \n",
       "115878            Napa   Red     14.7    Cork   \n",
       "115878            Napa   Red     14.7    Cork   \n",
       "115878            Napa   Red     14.7    Cork   \n",
       "115878            Napa   Red     14.7    Cork   \n",
       "115878            Napa   Red     14.7    Cork   \n",
       "\n",
       "                                                     opis  \\\n",
       "id                                                          \n",
       "119920  This Beaujolais’ cru, often underestimated, do...   \n",
       "119920  This Beaujolais’ cru, often underestimated, do...   \n",
       "119920  This Beaujolais’ cru, often underestimated, do...   \n",
       "119920  This Beaujolais’ cru, often underestimated, do...   \n",
       "119920  This Beaujolais’ cru, often underestimated, do...   \n",
       "...                                                   ...   \n",
       "115878  2016 was a particularly giving vintage for Cas...   \n",
       "115878  2016 was a particularly giving vintage for Cas...   \n",
       "115878  2016 was a particularly giving vintage for Cas...   \n",
       "115878  2016 was a particularly giving vintage for Cas...   \n",
       "115878  2016 was a particularly giving vintage for Cas...   \n",
       "\n",
       "                                                recenzija  popularnost  \n",
       "id                                                                      \n",
       "119920                                                NaN         1426  \n",
       "119920                                                NaN         1426  \n",
       "119920                                                NaN         1426  \n",
       "119920                                                NaN         1426  \n",
       "119920                                                NaN         1426  \n",
       "...                                                   ...          ...  \n",
       "115878  Casa Piena's 2016 Cabernet Sauvignon has turne...         1425  \n",
       "115878  Casa Piena's 2016 Cabernet Sauvignon has turne...         1425  \n",
       "115878  Casa Piena's 2016 Cabernet Sauvignon has turne...         1425  \n",
       "115878  Casa Piena's 2016 Cabernet Sauvignon has turne...         1425  \n",
       "115878  Casa Piena's 2016 Cabernet Sauvignon has turne...         1425  \n",
       "\n",
       "[346730 rows x 19 columns]"
      ]
     },
     "execution_count": 3,
     "metadata": {},
     "output_type": "execute_result"
    }
   ],
   "source": [
    "# tabela master je največja - vsebuje vse naše podatke\n",
    "senses = pd.merge(okusi, vonjave)\n",
    "vina_senses = pd.merge(vina, senses)\n",
    "master = pd.merge(vina_senses, detajli).set_index('id')\n",
    "master"
   ]
  },
  {
   "cell_type": "code",
   "execution_count": 4,
   "metadata": {
    "scrolled": false
   },
   "outputs": [
    {
     "data": {
      "text/html": [
       "<div>\n",
       "<style scoped>\n",
       "    .dataframe tbody tr th:only-of-type {\n",
       "        vertical-align: middle;\n",
       "    }\n",
       "\n",
       "    .dataframe tbody tr th {\n",
       "        vertical-align: top;\n",
       "    }\n",
       "\n",
       "    .dataframe thead th {\n",
       "        text-align: right;\n",
       "    }\n",
       "</style>\n",
       "<table border=\"1\" class=\"dataframe\">\n",
       "  <thead>\n",
       "    <tr style=\"text-align: right;\">\n",
       "      <th></th>\n",
       "      <th>leto</th>\n",
       "      <th>ime</th>\n",
       "      <th>sorta</th>\n",
       "      <th>drzava</th>\n",
       "      <th>velikost</th>\n",
       "      <th>znizana_cena</th>\n",
       "      <th>cena</th>\n",
       "      <th>ocena</th>\n",
       "      <th>ocenjevalec</th>\n",
       "      <th>regija</th>\n",
       "      <th>podregija</th>\n",
       "      <th>barva</th>\n",
       "      <th>alkohol</th>\n",
       "      <th>zamasek</th>\n",
       "      <th>opis</th>\n",
       "      <th>recenzija</th>\n",
       "      <th>popularnost</th>\n",
       "    </tr>\n",
       "    <tr>\n",
       "      <th>id</th>\n",
       "      <th></th>\n",
       "      <th></th>\n",
       "      <th></th>\n",
       "      <th></th>\n",
       "      <th></th>\n",
       "      <th></th>\n",
       "      <th></th>\n",
       "      <th></th>\n",
       "      <th></th>\n",
       "      <th></th>\n",
       "      <th></th>\n",
       "      <th></th>\n",
       "      <th></th>\n",
       "      <th></th>\n",
       "      <th></th>\n",
       "      <th></th>\n",
       "      <th></th>\n",
       "    </tr>\n",
       "  </thead>\n",
       "  <tbody>\n",
       "    <tr>\n",
       "      <th>119920</th>\n",
       "      <td>2019.0</td>\n",
       "      <td>Julien Sunier Regnie</td>\n",
       "      <td>Gamay</td>\n",
       "      <td>France</td>\n",
       "      <td>750</td>\n",
       "      <td>28.99</td>\n",
       "      <td>35.99</td>\n",
       "      <td>NaN</td>\n",
       "      <td>NaN</td>\n",
       "      <td>Beaujolais</td>\n",
       "      <td>Beaujolais Cru</td>\n",
       "      <td>Red</td>\n",
       "      <td>NaN</td>\n",
       "      <td>Cork</td>\n",
       "      <td>This Beaujolais’ cru, often underestimated, do...</td>\n",
       "      <td>NaN</td>\n",
       "      <td>1426</td>\n",
       "    </tr>\n",
       "    <tr>\n",
       "      <th>118777</th>\n",
       "      <td>2019.0</td>\n",
       "      <td>Vina Gonzalez Bastias Naranjo Valle De Maule (...</td>\n",
       "      <td>Blend</td>\n",
       "      <td>Chile</td>\n",
       "      <td>750</td>\n",
       "      <td>29.99</td>\n",
       "      <td>34.99</td>\n",
       "      <td>NaN</td>\n",
       "      <td>NaN</td>\n",
       "      <td>Central Valley</td>\n",
       "      <td>Maule</td>\n",
       "      <td>Orange</td>\n",
       "      <td>13.0</td>\n",
       "      <td>Cork</td>\n",
       "      <td>A blend of Moscatel, Torrontel and País. The M...</td>\n",
       "      <td>NaN</td>\n",
       "      <td>1427</td>\n",
       "    </tr>\n",
       "    <tr>\n",
       "      <th>119906</th>\n",
       "      <td>2019.0</td>\n",
       "      <td>Izadi Rioja Bianco</td>\n",
       "      <td>Blend</td>\n",
       "      <td>Spain</td>\n",
       "      <td>750</td>\n",
       "      <td>19.99</td>\n",
       "      <td>25.00</td>\n",
       "      <td>NaN</td>\n",
       "      <td>NaN</td>\n",
       "      <td>La Rioja</td>\n",
       "      <td>Rioja</td>\n",
       "      <td>White</td>\n",
       "      <td>13.5</td>\n",
       "      <td>Cork</td>\n",
       "      <td>Straw yellow in colour with bright green tones...</td>\n",
       "      <td>NaN</td>\n",
       "      <td>1428</td>\n",
       "    </tr>\n",
       "    <tr>\n",
       "      <th>114983</th>\n",
       "      <td>2016.0</td>\n",
       "      <td>Lamy Pillot Morgeot Chassagne Montrachet</td>\n",
       "      <td>Pinot Noir</td>\n",
       "      <td>France</td>\n",
       "      <td>750</td>\n",
       "      <td>44.99</td>\n",
       "      <td>60.00</td>\n",
       "      <td>NaN</td>\n",
       "      <td>NaN</td>\n",
       "      <td>Burgundy</td>\n",
       "      <td>Chassagne Montrachet</td>\n",
       "      <td>Red</td>\n",
       "      <td>13.0</td>\n",
       "      <td>Cork</td>\n",
       "      <td>A wine as good as many 1er crus from their nei...</td>\n",
       "      <td>NaN</td>\n",
       "      <td>1429</td>\n",
       "    </tr>\n",
       "    <tr>\n",
       "      <th>118255</th>\n",
       "      <td>2018.0</td>\n",
       "      <td>Jules Pierre Macon Villages</td>\n",
       "      <td>Chardonnay</td>\n",
       "      <td>France</td>\n",
       "      <td>750</td>\n",
       "      <td>19.99</td>\n",
       "      <td>25.00</td>\n",
       "      <td>NaN</td>\n",
       "      <td>NaN</td>\n",
       "      <td>Burgundy</td>\n",
       "      <td>Macon-Villages</td>\n",
       "      <td>White</td>\n",
       "      <td>12.5</td>\n",
       "      <td>Cork</td>\n",
       "      <td>Fresh and fruit-driven white wine capturing th...</td>\n",
       "      <td>NaN</td>\n",
       "      <td>1430</td>\n",
       "    </tr>\n",
       "    <tr>\n",
       "      <th>...</th>\n",
       "      <td>...</td>\n",
       "      <td>...</td>\n",
       "      <td>...</td>\n",
       "      <td>...</td>\n",
       "      <td>...</td>\n",
       "      <td>...</td>\n",
       "      <td>...</td>\n",
       "      <td>...</td>\n",
       "      <td>...</td>\n",
       "      <td>...</td>\n",
       "      <td>...</td>\n",
       "      <td>...</td>\n",
       "      <td>...</td>\n",
       "      <td>...</td>\n",
       "      <td>...</td>\n",
       "      <td>...</td>\n",
       "      <td>...</td>\n",
       "    </tr>\n",
       "    <tr>\n",
       "      <th>112603</th>\n",
       "      <td>2017.0</td>\n",
       "      <td>Giraud Les Grenaches De Pierre Chateauneuf Du ...</td>\n",
       "      <td>Grenache / Garnacha</td>\n",
       "      <td>France</td>\n",
       "      <td>750</td>\n",
       "      <td>99.99</td>\n",
       "      <td>162.99</td>\n",
       "      <td>96.0</td>\n",
       "      <td>Joe Czerwinski - Robert Parker&amp;#39;s Wine Advo...</td>\n",
       "      <td>Rhone</td>\n",
       "      <td>Chateauneuf du Pape</td>\n",
       "      <td>Red</td>\n",
       "      <td>15.5</td>\n",
       "      <td>Cork</td>\n",
       "      <td>NaN</td>\n",
       "      <td>Full-bodied yet silky, elegant and positively ...</td>\n",
       "      <td>1421</td>\n",
       "    </tr>\n",
       "    <tr>\n",
       "      <th>112025</th>\n",
       "      <td>2015.0</td>\n",
       "      <td>Philippe Gimel St Jean Du Barroux L'argile</td>\n",
       "      <td>Blend</td>\n",
       "      <td>France</td>\n",
       "      <td>750</td>\n",
       "      <td>26.80</td>\n",
       "      <td>34.99</td>\n",
       "      <td>93.0</td>\n",
       "      <td>Jeb Dunnuck - jebdunnuck.com</td>\n",
       "      <td>Rhone</td>\n",
       "      <td>Cotes du Ventoux</td>\n",
       "      <td>Red</td>\n",
       "      <td>14.5</td>\n",
       "      <td>Cork</td>\n",
       "      <td>NaN</td>\n",
       "      <td>The 2015 L'Argile spent 24 months in concrete,...</td>\n",
       "      <td>1422</td>\n",
       "    </tr>\n",
       "    <tr>\n",
       "      <th>118326</th>\n",
       "      <td>2017.0</td>\n",
       "      <td>Pichler Krutzler Klostersatz Gruner Veltliner</td>\n",
       "      <td>Gruner Veltliner</td>\n",
       "      <td>Austria</td>\n",
       "      <td>750</td>\n",
       "      <td>27.99</td>\n",
       "      <td>35.00</td>\n",
       "      <td>92.0</td>\n",
       "      <td>Wine Enthusiast</td>\n",
       "      <td>Niederosterreich-Lower Austria</td>\n",
       "      <td>Wachau</td>\n",
       "      <td>White</td>\n",
       "      <td>12.5</td>\n",
       "      <td>Screwtop</td>\n",
       "      <td>Pichler-Krutzler from Austria’s famed Wachau r...</td>\n",
       "      <td>Reduction and yeast vie for attention with rou...</td>\n",
       "      <td>1423</td>\n",
       "    </tr>\n",
       "    <tr>\n",
       "      <th>118660</th>\n",
       "      <td>2019.0</td>\n",
       "      <td>Bodegs Ponce Reto</td>\n",
       "      <td>Albillo</td>\n",
       "      <td>Spain</td>\n",
       "      <td>750</td>\n",
       "      <td>19.99</td>\n",
       "      <td>25.00</td>\n",
       "      <td>NaN</td>\n",
       "      <td>NaN</td>\n",
       "      <td>Castilla La Mancha</td>\n",
       "      <td>Manchuela</td>\n",
       "      <td>White</td>\n",
       "      <td>13.5</td>\n",
       "      <td>Cork</td>\n",
       "      <td>Reto is the first white wine made in our winer...</td>\n",
       "      <td>NaN</td>\n",
       "      <td>1424</td>\n",
       "    </tr>\n",
       "    <tr>\n",
       "      <th>115878</th>\n",
       "      <td>2016.0</td>\n",
       "      <td>Casa Piena Cabernet Sauvignon</td>\n",
       "      <td>Cabernet Sauvignon</td>\n",
       "      <td>United States</td>\n",
       "      <td>750</td>\n",
       "      <td>139.99</td>\n",
       "      <td>174.99</td>\n",
       "      <td>96.0</td>\n",
       "      <td>Antonio Galloni - Vinous</td>\n",
       "      <td>California</td>\n",
       "      <td>Napa</td>\n",
       "      <td>Red</td>\n",
       "      <td>14.7</td>\n",
       "      <td>Cork</td>\n",
       "      <td>2016 was a particularly giving vintage for Cas...</td>\n",
       "      <td>Casa Piena's 2016 Cabernet Sauvignon has turne...</td>\n",
       "      <td>1425</td>\n",
       "    </tr>\n",
       "  </tbody>\n",
       "</table>\n",
       "<p>2265 rows × 17 columns</p>\n",
       "</div>"
      ],
      "text/plain": [
       "          leto                                                ime  \\\n",
       "id                                                                  \n",
       "119920  2019.0                               Julien Sunier Regnie   \n",
       "118777  2019.0  Vina Gonzalez Bastias Naranjo Valle De Maule (...   \n",
       "119906  2019.0                                 Izadi Rioja Bianco   \n",
       "114983  2016.0           Lamy Pillot Morgeot Chassagne Montrachet   \n",
       "118255  2018.0                        Jules Pierre Macon Villages   \n",
       "...        ...                                                ...   \n",
       "112603  2017.0  Giraud Les Grenaches De Pierre Chateauneuf Du ...   \n",
       "112025  2015.0         Philippe Gimel St Jean Du Barroux L'argile   \n",
       "118326  2017.0      Pichler Krutzler Klostersatz Gruner Veltliner   \n",
       "118660  2019.0                                  Bodegs Ponce Reto   \n",
       "115878  2016.0                      Casa Piena Cabernet Sauvignon   \n",
       "\n",
       "                      sorta         drzava  velikost  znizana_cena    cena  \\\n",
       "id                                                                           \n",
       "119920                Gamay         France       750         28.99   35.99   \n",
       "118777                Blend          Chile       750         29.99   34.99   \n",
       "119906                Blend          Spain       750         19.99   25.00   \n",
       "114983           Pinot Noir         France       750         44.99   60.00   \n",
       "118255           Chardonnay         France       750         19.99   25.00   \n",
       "...                     ...            ...       ...           ...     ...   \n",
       "112603  Grenache / Garnacha         France       750         99.99  162.99   \n",
       "112025                Blend         France       750         26.80   34.99   \n",
       "118326     Gruner Veltliner        Austria       750         27.99   35.00   \n",
       "118660              Albillo          Spain       750         19.99   25.00   \n",
       "115878   Cabernet Sauvignon  United States       750        139.99  174.99   \n",
       "\n",
       "        ocena                                        ocenjevalec  \\\n",
       "id                                                                 \n",
       "119920    NaN                                                NaN   \n",
       "118777    NaN                                                NaN   \n",
       "119906    NaN                                                NaN   \n",
       "114983    NaN                                                NaN   \n",
       "118255    NaN                                                NaN   \n",
       "...       ...                                                ...   \n",
       "112603   96.0  Joe Czerwinski - Robert Parker&#39;s Wine Advo...   \n",
       "112025   93.0                       Jeb Dunnuck - jebdunnuck.com   \n",
       "118326   92.0                                    Wine Enthusiast   \n",
       "118660    NaN                                                NaN   \n",
       "115878   96.0                           Antonio Galloni - Vinous   \n",
       "\n",
       "                                regija             podregija   barva  alkohol  \\\n",
       "id                                                                              \n",
       "119920                      Beaujolais        Beaujolais Cru     Red      NaN   \n",
       "118777                  Central Valley                 Maule  Orange     13.0   \n",
       "119906                        La Rioja                 Rioja   White     13.5   \n",
       "114983                        Burgundy  Chassagne Montrachet     Red     13.0   \n",
       "118255                        Burgundy        Macon-Villages   White     12.5   \n",
       "...                                ...                   ...     ...      ...   \n",
       "112603                           Rhone   Chateauneuf du Pape     Red     15.5   \n",
       "112025                           Rhone      Cotes du Ventoux     Red     14.5   \n",
       "118326  Niederosterreich-Lower Austria                Wachau   White     12.5   \n",
       "118660              Castilla La Mancha             Manchuela   White     13.5   \n",
       "115878                      California                  Napa     Red     14.7   \n",
       "\n",
       "         zamasek                                               opis  \\\n",
       "id                                                                    \n",
       "119920      Cork  This Beaujolais’ cru, often underestimated, do...   \n",
       "118777      Cork  A blend of Moscatel, Torrontel and País. The M...   \n",
       "119906      Cork  Straw yellow in colour with bright green tones...   \n",
       "114983      Cork  A wine as good as many 1er crus from their nei...   \n",
       "118255      Cork  Fresh and fruit-driven white wine capturing th...   \n",
       "...          ...                                                ...   \n",
       "112603      Cork                                                NaN   \n",
       "112025      Cork                                                NaN   \n",
       "118326  Screwtop  Pichler-Krutzler from Austria’s famed Wachau r...   \n",
       "118660      Cork  Reto is the first white wine made in our winer...   \n",
       "115878      Cork  2016 was a particularly giving vintage for Cas...   \n",
       "\n",
       "                                                recenzija  popularnost  \n",
       "id                                                                      \n",
       "119920                                                NaN         1426  \n",
       "118777                                                NaN         1427  \n",
       "119906                                                NaN         1428  \n",
       "114983                                                NaN         1429  \n",
       "118255                                                NaN         1430  \n",
       "...                                                   ...          ...  \n",
       "112603  Full-bodied yet silky, elegant and positively ...         1421  \n",
       "112025  The 2015 L'Argile spent 24 months in concrete,...         1422  \n",
       "118326  Reduction and yeast vie for attention with rou...         1423  \n",
       "118660                                                NaN         1424  \n",
       "115878  Casa Piena's 2016 Cabernet Sauvignon has turne...         1425  \n",
       "\n",
       "[2265 rows x 17 columns]"
      ]
     },
     "execution_count": 4,
     "metadata": {},
     "output_type": "execute_result"
    }
   ],
   "source": [
    "# ker se v master vina ponavljajo, naredimo še tabelo brez okusov in vonjav, \n",
    "# ki je bolj sprejemljive velikosti\n",
    "vina = pd.merge(vina, detajli).set_index('id')\n",
    "vina"
   ]
  },
  {
   "cell_type": "markdown",
   "metadata": {},
   "source": [
    "## Analiza"
   ]
  },
  {
   "cell_type": "code",
   "execution_count": 5,
   "metadata": {},
   "outputs": [
    {
     "data": {
      "image/png": "[encoded data removed]",
      "text/plain": [
       "<Figure size 432x288 with 1 Axes>"
      ]
     },
     "metadata": {
      "needs_background": "light"
     },
     "output_type": "display_data"
    }
   ],
   "source": [
    "# popularsnost cen (pod 100)\n",
    "vina[vina.cena <= 100].plot.hist(y='cena', bins=50, title='Histogram cen');"
   ]
  },
  {
   "cell_type": "markdown",
   "metadata": {},
   "source": [
    "Za začetek enostavno pogledamo kako so porazdeljene cene na strani. Višjih cen od 100 EUR ne upoštevamo, saj popačijo izgled. Vidimo, da se cene v večini gibljejo med 15 in 35 EUR ter da so cene rade zaokrožene - kot je vidno iz velikih skokov pri okroglih številih."
   ]
  },
  {
   "cell_type": "markdown",
   "metadata": {},
   "source": [
    "### Popularnost in ocene"
   ]
  },
  {
   "cell_type": "code",
   "execution_count": 6,
   "metadata": {},
   "outputs": [
    {
     "data": {
      "image/png": "[encoded data removed]",
      "text/plain": [
       "<Figure size 432x288 with 1 Axes>"
      ]
     },
     "metadata": {
      "needs_background": "light"
     },
     "output_type": "display_data"
    }
   ],
   "source": [
    "# stran damo ocene, manjše od 10, saj uporabljajo drugačno lestvico\n",
    "vina[vina.ocena > 10].plot.scatter(x='popularnost', y='ocena');"
   ]
  },
  {
   "cell_type": "code",
   "execution_count": 7,
   "metadata": {},
   "outputs": [
    {
     "data": {
      "text/html": [
       "<div>\n",
       "<style scoped>\n",
       "    .dataframe tbody tr th:only-of-type {\n",
       "        vertical-align: middle;\n",
       "    }\n",
       "\n",
       "    .dataframe tbody tr th {\n",
       "        vertical-align: top;\n",
       "    }\n",
       "\n",
       "    .dataframe thead th {\n",
       "        text-align: right;\n",
       "    }\n",
       "</style>\n",
       "<table border=\"1\" class=\"dataframe\">\n",
       "  <thead>\n",
       "    <tr style=\"text-align: right;\">\n",
       "      <th></th>\n",
       "      <th>popularnost</th>\n",
       "      <th>ocena</th>\n",
       "    </tr>\n",
       "  </thead>\n",
       "  <tbody>\n",
       "    <tr>\n",
       "      <th>popularnost</th>\n",
       "      <td>1.000000</td>\n",
       "      <td>0.131627</td>\n",
       "    </tr>\n",
       "    <tr>\n",
       "      <th>ocena</th>\n",
       "      <td>0.131627</td>\n",
       "      <td>1.000000</td>\n",
       "    </tr>\n",
       "  </tbody>\n",
       "</table>\n",
       "</div>"
      ],
      "text/plain": [
       "             popularnost     ocena\n",
       "popularnost     1.000000  0.131627\n",
       "ocena           0.131627  1.000000"
      ]
     },
     "execution_count": 7,
     "metadata": {},
     "output_type": "execute_result"
    }
   ],
   "source": [
    "r = vina[vina.ocena > 10][['popularnost', 'ocena']].corr()\n",
    "r"
   ]
  },
  {
   "cell_type": "markdown",
   "metadata": {},
   "source": [
    "Vidimo, da ni pretirane povezave med popularnostjo vina in njegovo oceno. To je verjetno posledica tega, da prodajalna Wine Library prodaja večinoma samo kvalitetna in dobro ocenjena vina. \n",
    "\n",
    "Našo opazko tudi empirično potrdi Pearsonov korelacijski koeficient, ki znaša 0.13, kar pomeni, da med spemenljivkama ni zares močne korelacije. Na podlagi tega prvo hipotezo težko ovržemo ali potrdimo. Sigurno ne velja, da so najboljša vina daleč od najboljših, a tudi obratno težko zatrdimo - Wine library očitno res prodaja samo popularna in kvalitetna vina."
   ]
  },
  {
   "cell_type": "markdown",
   "metadata": {},
   "source": [
    "### Velikost buteljke in vrsta zamaška\n",
    "\n",
    "Predvidevamo, da je delač najbolj priljubljena velikost 750 ml in zato tudi najbolje ocenjena. Podobno pričakujemo s plutastim (\"cork\") zamaškom."
   ]
  },
  {
   "cell_type": "code",
   "execution_count": 8,
   "metadata": {},
   "outputs": [
    {
     "data": {
      "text/plain": [
       "velikost\n",
       "3         1\n",
       "187       4\n",
       "500       7\n",
       "250      11\n",
       "1        32\n",
       "375     115\n",
       "750    2095\n",
       "dtype: int64"
      ]
     },
     "execution_count": 8,
     "metadata": {},
     "output_type": "execute_result"
    }
   ],
   "source": [
    "vina.groupby('velikost').size().sort_values()"
   ]
  },
  {
   "cell_type": "code",
   "execution_count": 9,
   "metadata": {},
   "outputs": [
    {
     "data": {
      "image/png": "[encoded data removed]",
      "text/plain": [
       "<Figure size 720x360 with 2 Axes>"
      ]
     },
     "metadata": {
      "needs_background": "light"
     },
     "output_type": "display_data"
    }
   ],
   "source": [
    "plt.figure(figsize=(10,5))\n",
    "\n",
    "plt.subplot(1, 2, 1)\n",
    "vina.groupby('zamasek').mean()['popularnost'].sort_values().plot.bar(title='Popularnost glede na zamašek');\n",
    "\n",
    "plt.subplot(1, 2, 2)\n",
    "vina.groupby('velikost').mean()['popularnost'].sort_values().plot.bar(title='Popularnost glede na velikost');"
   ]
  },
  {
   "cell_type": "code",
   "execution_count": 10,
   "metadata": {},
   "outputs": [
    {
     "data": {
      "image/png": "[encoded data removed]",
      "text/plain": [
       "<Figure size 720x360 with 2 Axes>"
      ]
     },
     "metadata": {
      "needs_background": "light"
     },
     "output_type": "display_data"
    }
   ],
   "source": [
    "plt.figure(figsize=(10,5))\n",
    "\n",
    "plt.subplot(1, 2, 1)\n",
    "vina.groupby('zamasek').mean()['ocena'].sort_values().plot.bar(title='Ocena glede na zamašek');\n",
    "\n",
    "plt.subplot(1, 2, 2)\n",
    "vina.groupby('velikost').mean()['ocena'].sort_values().plot.bar(title='Ocena glede na velikost');"
   ]
  },
  {
   "cell_type": "markdown",
   "metadata": {},
   "source": [
    "Takoj opazimo, da se velikost 750 ml pojavi več kot 2000-krat, kar res zajema veliko večino vseh vin, zato ni čudno, da je v povprečju približno 1100. po popularnosti (to je namreč ravno polovica vseh vin). Presenetljivo pa je, da je popularna tudi velikost 250 ml; res da imajo le 11 tovrstnih vin, a v povprečju so najbolj popularna. Mislimo pa, da vseeno lahko potrdimo hipotezo o popularnostivin z velikostjo 750 ml, kar ni presenetljivo.\n",
    "\n",
    "Očitno je, da sta v povprečju bolje ocenjeni velikosti 375 ml in 1 l. Torej prvo hipotezo o butelki velikosti 750 ml potrdimo, drugo pa ovržemo."
   ]
  },
  {
   "cell_type": "code",
   "execution_count": 11,
   "metadata": {},
   "outputs": [
    {
     "data": {
      "text/plain": [
       "zamasek\n",
       "Glass           3\n",
       "Crown Cap       8\n",
       "Canned         14\n",
       "Screwtop      352\n",
       "Cork         1878\n",
       "dtype: int64"
      ]
     },
     "execution_count": 11,
     "metadata": {},
     "output_type": "execute_result"
    }
   ],
   "source": [
    "vina.groupby('zamasek').size().sort_values()"
   ]
  },
  {
   "cell_type": "markdown",
   "metadata": {},
   "source": [
    "Hitro omenimo še nepresenetljivo popularnost in premoč plutastih zamaškov, kar nas ne preseneča. Zanimivo se nam zdi, da je tudi med temi, bolj \"elitnimi\" vini vseeno nekaj zamaškov z navojem. Izstopajo tudi vina v pločevinki, ki jih je bolj malo, a so očitno precej popualrni in malce slabše ocenjeni. "
   ]
  },
  {
   "cell_type": "markdown",
   "metadata": {},
   "source": [
    "### Vina skozi leta"
   ]
  },
  {
   "cell_type": "code",
   "execution_count": 12,
   "metadata": {},
   "outputs": [
    {
     "data": {
      "text/plain": [
       "<AxesSubplot:title={'center':'Povprečcna ocena skozi leta'}, xlabel='leto'>"
      ]
     },
     "execution_count": 12,
     "metadata": {},
     "output_type": "execute_result"
    },
    {
     "data": {
      "image/png": "[encoded data removed]",
      "text/plain": [
       "<Figure size 1080x360 with 3 Axes>"
      ]
     },
     "metadata": {
      "needs_background": "light"
     },
     "output_type": "display_data"
    }
   ],
   "source": [
    "plt.figure(figsize=(15,5))\n",
    "\n",
    "plt.subplot(1, 3, 1)\n",
    "vina.groupby('leto').mean()['popularnost'].plot(title='Popularnost skozi leta (nižje je bolje)')\n",
    "\n",
    "plt.subplot(1, 3, 2)\n",
    "vina.groupby('leto').mean()['cena'].plot(title='(Znižana) cena skozi leta', legend=True)\n",
    "vina.groupby('leto').mean()['znizana_cena'].plot(legend=True)\n",
    "\n",
    "plt.subplot(1, 3, 3)\n",
    "vina.groupby('leto').mean()['ocena'].plot(title='Povprečcna ocena skozi leta')"
   ]
  },
  {
   "cell_type": "code",
   "execution_count": 13,
   "metadata": {},
   "outputs": [
    {
     "data": {
      "text/plain": [
       "leto\n",
       "1963.0      1\n",
       "1978.0      1\n",
       "1979.0      2\n",
       "1989.0      1\n",
       "1990.0      1\n",
       "1991.0      1\n",
       "1995.0      1\n",
       "1996.0      1\n",
       "1998.0      1\n",
       "1999.0      1\n",
       "2001.0      1\n",
       "2005.0      3\n",
       "2006.0      2\n",
       "2007.0      4\n",
       "2008.0      4\n",
       "2009.0      7\n",
       "2010.0     14\n",
       "2011.0     18\n",
       "2012.0     22\n",
       "2013.0     46\n",
       "2014.0     84\n",
       "2015.0    164\n",
       "2016.0    315\n",
       "2017.0    444\n",
       "2018.0    563\n",
       "2019.0    301\n",
       "2020.0      3\n",
       "dtype: int64"
      ]
     },
     "execution_count": 13,
     "metadata": {},
     "output_type": "execute_result"
    }
   ],
   "source": [
    "vina.groupby('leto').size()"
   ]
  },
  {
   "cell_type": "markdown",
   "metadata": {},
   "source": [
    "Vidimo, da so vsi grafi precej zobati, zato težko naredimo kakšen konkreten sklep. Iz preštetih vin po letih vidimo tudi, da nimamo najboljšega vzorca. Vidimo pa lahko, da je cena vin iz 2000-2010 najvišja in da so starejša vina v povprečju bolje ocenjena.\n",
    "\n",
    "Prav tako je nepresenetljivo, da so novejša vina bolj popuarna - so bolj dostopna in tudi več različnih se prodaja. Je pa vseen mogoče opaziti trend: novejša vina so vedno slabše ocenjena in vedno cenejša, a tudi vedno bolj popularna (predvsem, če gledamo samo zadnje desetletje)."
   ]
  },
  {
   "cell_type": "markdown",
   "metadata": {},
   "source": [
    "### Popularnost po barvah\n",
    "\n",
    "Naša hipoteza je, da ljudje preferirajo belo vino."
   ]
  },
  {
   "cell_type": "code",
   "execution_count": 14,
   "metadata": {},
   "outputs": [
    {
     "data": {
      "text/plain": [
       "barva\n",
       "Mixed        3\n",
       "Orange       6\n",
       "Rose       127\n",
       "White      832\n",
       "Red       1297\n",
       "dtype: int64"
      ]
     },
     "execution_count": 14,
     "metadata": {},
     "output_type": "execute_result"
    }
   ],
   "source": [
    "# količina vin posamezne barve\n",
    "vina.groupby('barva').size().sort_values()"
   ]
  },
  {
   "cell_type": "code",
   "execution_count": 15,
   "metadata": {},
   "outputs": [
    {
     "data": {
      "image/png": "[encoded data removed]",
      "text/plain": [
       "<Figure size 432x288 with 1 Axes>"
      ]
     },
     "metadata": {
      "needs_background": "light"
     },
     "output_type": "display_data"
    }
   ],
   "source": [
    "# očitno se pojavi nek problem s podvojitvami indeksov\n",
    "vina.loc[~vina.index.duplicated(keep='first')].groupby('barva').boxplot(\n",
    "    column='popularnost', subplots=False, rot=45);"
   ]
  },
  {
   "cell_type": "markdown",
   "metadata": {},
   "source": [
    "Vidimo, da se med 2265 najbolj popularnimi vini največkrat pojavijo rdeča. Na grafu pa vidimo, da so najbolj popularna mešana - a to v kombinaciji s tabelo ni relevantno, saj je mešanih vin precej malo. V povprečju najbolj popularna sorta je očitno rosé. \n",
    "\n",
    "Vseeno rdeče vino premaga belo, zato lahko ovržemo hipotezo, da je belo vino najbolj popularno, ta prestol očitno pripada rdečemu vinu, če gledamo količinsko oz. rose-ju, če se osredotočimo na povprečja (težko bi argumentirali za mešano ali oranžno, saj je teh vnosov precej malo - mali razpon na grafu je tudi torej posledica tega). "
   ]
  },
  {
   "cell_type": "markdown",
   "metadata": {},
   "source": [
    "### Sorte\n",
    "\n",
    "Zanima nas, katera sorta je najbolj popularna."
   ]
  },
  {
   "cell_type": "code",
   "execution_count": 16,
   "metadata": {},
   "outputs": [
    {
     "data": {
      "text/plain": [
       "sorta\n",
       "Graciano             15.5\n",
       "Isabella            155.0\n",
       "Raboso Veronese     212.0\n",
       "Malagousia          280.0\n",
       "Dornfelder          290.0\n",
       "                    ...  \n",
       "Vaccarese          2314.0\n",
       "Pecorino           2357.5\n",
       "Nero D'avola       2381.0\n",
       "Verdejo            2423.0\n",
       "Plum               2432.0\n",
       "Name: popularnost, Length: 124, dtype: float64"
      ]
     },
     "execution_count": 16,
     "metadata": {},
     "output_type": "execute_result"
    }
   ],
   "source": [
    "vina.groupby('sorta').mean()['popularnost'].sort_values()"
   ]
  },
  {
   "cell_type": "markdown",
   "metadata": {},
   "source": [
    "V povprečju najbolj popularna sorta je Graciano. V povprečju je dosegla kar 15,5. mesto na lestvici. "
   ]
  },
  {
   "cell_type": "code",
   "execution_count": 17,
   "metadata": {},
   "outputs": [
    {
     "data": {
      "text/plain": [
       "sorta\n",
       "Torrontes                   1\n",
       "Treixadura / Trajadura      1\n",
       "Plum                        1\n",
       "Hondarribi Beltza           1\n",
       "Inzolia                     1\n",
       "                         ... \n",
       "Sauvignon Blanc           113\n",
       "Cabernet Sauvignon        163\n",
       "Pinot Noir                228\n",
       "Chardonnay                234\n",
       "Blend                     749\n",
       "Name: popularnost, Length: 124, dtype: int64"
      ]
     },
     "execution_count": 17,
     "metadata": {},
     "output_type": "execute_result"
    }
   ],
   "source": [
    "vina.groupby('sorta').count()['popularnost'].sort_values()"
   ]
  },
  {
   "cell_type": "markdown",
   "metadata": {},
   "source": [
    "Največkrat pa se pojavijo nekatere bolj znane sorte, kot so Chardonnay in Cabernet Sauvignon. Zdi se torej, da ljudje velikokrat kupijo bolj eksotične sorte, povpraševanje na trgu v celoti pa vseeno zahteva tudi bolj navadne."
   ]
  },
  {
   "cell_type": "markdown",
   "metadata": {},
   "source": [
    "### Države in regije"
   ]
  },
  {
   "cell_type": "code",
   "execution_count": 18,
   "metadata": {},
   "outputs": [
    {
     "data": {
      "text/html": [
       "<div>\n",
       "<style scoped>\n",
       "    .dataframe tbody tr th:only-of-type {\n",
       "        vertical-align: middle;\n",
       "    }\n",
       "\n",
       "    .dataframe tbody tr th {\n",
       "        vertical-align: top;\n",
       "    }\n",
       "\n",
       "    .dataframe thead th {\n",
       "        text-align: right;\n",
       "    }\n",
       "</style>\n",
       "<table border=\"1\" class=\"dataframe\">\n",
       "  <thead>\n",
       "    <tr style=\"text-align: right;\">\n",
       "      <th></th>\n",
       "      <th>ocena</th>\n",
       "      <th>cena</th>\n",
       "      <th>popularnost</th>\n",
       "      <th>count</th>\n",
       "    </tr>\n",
       "    <tr>\n",
       "      <th>drzava</th>\n",
       "      <th></th>\n",
       "      <th></th>\n",
       "      <th></th>\n",
       "      <th></th>\n",
       "    </tr>\n",
       "  </thead>\n",
       "  <tbody>\n",
       "    <tr>\n",
       "      <th>Wine Gifts</th>\n",
       "      <td>NaN</td>\n",
       "      <td>471.880000</td>\n",
       "      <td>258.000000</td>\n",
       "      <td>1</td>\n",
       "    </tr>\n",
       "    <tr>\n",
       "      <th>Uruguay</th>\n",
       "      <td>NaN</td>\n",
       "      <td>19.000000</td>\n",
       "      <td>912.000000</td>\n",
       "      <td>1</td>\n",
       "    </tr>\n",
       "    <tr>\n",
       "      <th>Canada</th>\n",
       "      <td>94.000000</td>\n",
       "      <td>59.990000</td>\n",
       "      <td>1753.000000</td>\n",
       "      <td>1</td>\n",
       "    </tr>\n",
       "    <tr>\n",
       "      <th>Lebanon</th>\n",
       "      <td>NaN</td>\n",
       "      <td>21.990000</td>\n",
       "      <td>1016.000000</td>\n",
       "      <td>1</td>\n",
       "    </tr>\n",
       "    <tr>\n",
       "      <th>Moldova</th>\n",
       "      <td>NaN</td>\n",
       "      <td>9.980000</td>\n",
       "      <td>1089.000000</td>\n",
       "      <td>1</td>\n",
       "    </tr>\n",
       "    <tr>\n",
       "      <th>Belarus</th>\n",
       "      <td>NaN</td>\n",
       "      <td>9.980000</td>\n",
       "      <td>737.500000</td>\n",
       "      <td>2</td>\n",
       "    </tr>\n",
       "    <tr>\n",
       "      <th>Japan</th>\n",
       "      <td>NaN</td>\n",
       "      <td>15.490000</td>\n",
       "      <td>1777.500000</td>\n",
       "      <td>2</td>\n",
       "    </tr>\n",
       "    <tr>\n",
       "      <th>Slovenia</th>\n",
       "      <td>NaN</td>\n",
       "      <td>15.496667</td>\n",
       "      <td>1668.000000</td>\n",
       "      <td>3</td>\n",
       "    </tr>\n",
       "    <tr>\n",
       "      <th>Armenia</th>\n",
       "      <td>NaN</td>\n",
       "      <td>33.333333</td>\n",
       "      <td>1830.000000</td>\n",
       "      <td>3</td>\n",
       "    </tr>\n",
       "    <tr>\n",
       "      <th>Hungary</th>\n",
       "      <td>53.000000</td>\n",
       "      <td>74.990000</td>\n",
       "      <td>1989.000000</td>\n",
       "      <td>3</td>\n",
       "    </tr>\n",
       "    <tr>\n",
       "      <th>Georgia</th>\n",
       "      <td>NaN</td>\n",
       "      <td>16.323333</td>\n",
       "      <td>1743.666667</td>\n",
       "      <td>6</td>\n",
       "    </tr>\n",
       "    <tr>\n",
       "      <th>Greece</th>\n",
       "      <td>NaN</td>\n",
       "      <td>24.590000</td>\n",
       "      <td>1402.300000</td>\n",
       "      <td>10</td>\n",
       "    </tr>\n",
       "    <tr>\n",
       "      <th>Germany</th>\n",
       "      <td>91.750000</td>\n",
       "      <td>28.521304</td>\n",
       "      <td>1506.000000</td>\n",
       "      <td>23</td>\n",
       "    </tr>\n",
       "    <tr>\n",
       "      <th>South Africa</th>\n",
       "      <td>93.000000</td>\n",
       "      <td>24.064643</td>\n",
       "      <td>1375.642857</td>\n",
       "      <td>28</td>\n",
       "    </tr>\n",
       "    <tr>\n",
       "      <th>Chile</th>\n",
       "      <td>92.545455</td>\n",
       "      <td>24.486207</td>\n",
       "      <td>1107.275862</td>\n",
       "      <td>29</td>\n",
       "    </tr>\n",
       "    <tr>\n",
       "      <th>Austria</th>\n",
       "      <td>92.285714</td>\n",
       "      <td>28.258780</td>\n",
       "      <td>1406.756098</td>\n",
       "      <td>41</td>\n",
       "    </tr>\n",
       "    <tr>\n",
       "      <th>Argentina</th>\n",
       "      <td>91.900000</td>\n",
       "      <td>27.993333</td>\n",
       "      <td>931.437500</td>\n",
       "      <td>48</td>\n",
       "    </tr>\n",
       "    <tr>\n",
       "      <th>New Zealand</th>\n",
       "      <td>90.416667</td>\n",
       "      <td>21.563061</td>\n",
       "      <td>1111.081633</td>\n",
       "      <td>49</td>\n",
       "    </tr>\n",
       "    <tr>\n",
       "      <th>Israel</th>\n",
       "      <td>NaN</td>\n",
       "      <td>24.157000</td>\n",
       "      <td>1408.033333</td>\n",
       "      <td>60</td>\n",
       "    </tr>\n",
       "    <tr>\n",
       "      <th>Australia</th>\n",
       "      <td>92.392857</td>\n",
       "      <td>27.057460</td>\n",
       "      <td>1346.301587</td>\n",
       "      <td>63</td>\n",
       "    </tr>\n",
       "    <tr>\n",
       "      <th>Portugal</th>\n",
       "      <td>92.428571</td>\n",
       "      <td>43.109524</td>\n",
       "      <td>1632.466667</td>\n",
       "      <td>105</td>\n",
       "    </tr>\n",
       "    <tr>\n",
       "      <th>Spain</th>\n",
       "      <td>92.000000</td>\n",
       "      <td>28.635303</td>\n",
       "      <td>1181.030303</td>\n",
       "      <td>132</td>\n",
       "    </tr>\n",
       "    <tr>\n",
       "      <th>Italy</th>\n",
       "      <td>92.781915</td>\n",
       "      <td>44.062663</td>\n",
       "      <td>1080.702550</td>\n",
       "      <td>353</td>\n",
       "    </tr>\n",
       "    <tr>\n",
       "      <th>France</th>\n",
       "      <td>91.898876</td>\n",
       "      <td>57.256770</td>\n",
       "      <td>1303.735726</td>\n",
       "      <td>613</td>\n",
       "    </tr>\n",
       "    <tr>\n",
       "      <th>United States</th>\n",
       "      <td>92.060606</td>\n",
       "      <td>45.211325</td>\n",
       "      <td>1014.804949</td>\n",
       "      <td>687</td>\n",
       "    </tr>\n",
       "  </tbody>\n",
       "</table>\n",
       "</div>"
      ],
      "text/plain": [
       "                   ocena        cena  popularnost  count\n",
       "drzava                                                  \n",
       "Wine Gifts           NaN  471.880000   258.000000      1\n",
       "Uruguay              NaN   19.000000   912.000000      1\n",
       "Canada         94.000000   59.990000  1753.000000      1\n",
       "Lebanon              NaN   21.990000  1016.000000      1\n",
       "Moldova              NaN    9.980000  1089.000000      1\n",
       "Belarus              NaN    9.980000   737.500000      2\n",
       "Japan                NaN   15.490000  1777.500000      2\n",
       "Slovenia             NaN   15.496667  1668.000000      3\n",
       "Armenia              NaN   33.333333  1830.000000      3\n",
       "Hungary        53.000000   74.990000  1989.000000      3\n",
       "Georgia              NaN   16.323333  1743.666667      6\n",
       "Greece               NaN   24.590000  1402.300000     10\n",
       "Germany        91.750000   28.521304  1506.000000     23\n",
       "South Africa   93.000000   24.064643  1375.642857     28\n",
       "Chile          92.545455   24.486207  1107.275862     29\n",
       "Austria        92.285714   28.258780  1406.756098     41\n",
       "Argentina      91.900000   27.993333   931.437500     48\n",
       "New Zealand    90.416667   21.563061  1111.081633     49\n",
       "Israel               NaN   24.157000  1408.033333     60\n",
       "Australia      92.392857   27.057460  1346.301587     63\n",
       "Portugal       92.428571   43.109524  1632.466667    105\n",
       "Spain          92.000000   28.635303  1181.030303    132\n",
       "Italy          92.781915   44.062663  1080.702550    353\n",
       "France         91.898876   57.256770  1303.735726    613\n",
       "United States  92.060606   45.211325  1014.804949    687"
      ]
     },
     "execution_count": 18,
     "metadata": {},
     "output_type": "execute_result"
    }
   ],
   "source": [
    "drzave = vina.groupby('drzava').mean()[['ocena', 'cena', 'popularnost']].sort_values('popularnost')\n",
    "drzave['count'] = vina.groupby('drzava').count()['popularnost']\n",
    "drzave.sort_values('count')"
   ]
  },
  {
   "cell_type": "markdown",
   "metadata": {},
   "source": [
    "Torej v povprečju najdražja vina prihajajo iz Madžarske, najvišje ocenjena so kanadska vina, v povprečju najbolj popularna vina pa so iz Belorusije.\n",
    "\n",
    "Ko se ozremo nazaj in podrobneje pogledamo, da so vse cene v dolarjih, takoj postane jasno, da bo največ vin prav iz ZDA. Drugače pa v vrhu ni presenečenj. Zanimivo je omeniti, da smo tudi Slovenci spravili tri vina na seznam.\n",
    "\n",
    "Težko torej določimo enega samega zmagovalca, kar se tiče držav."
   ]
  },
  {
   "cell_type": "code",
   "execution_count": 19,
   "metadata": {},
   "outputs": [
    {
     "data": {
      "text/html": [
       "<div>\n",
       "<style scoped>\n",
       "    .dataframe tbody tr th:only-of-type {\n",
       "        vertical-align: middle;\n",
       "    }\n",
       "\n",
       "    .dataframe tbody tr th {\n",
       "        vertical-align: top;\n",
       "    }\n",
       "\n",
       "    .dataframe thead th {\n",
       "        text-align: right;\n",
       "    }\n",
       "</style>\n",
       "<table border=\"1\" class=\"dataframe\">\n",
       "  <thead>\n",
       "    <tr style=\"text-align: right;\">\n",
       "      <th></th>\n",
       "      <th>leto</th>\n",
       "      <th>ime</th>\n",
       "      <th>sorta</th>\n",
       "      <th>drzava</th>\n",
       "      <th>velikost</th>\n",
       "      <th>znizana_cena</th>\n",
       "      <th>cena</th>\n",
       "      <th>ocena</th>\n",
       "      <th>ocenjevalec</th>\n",
       "      <th>regija</th>\n",
       "      <th>podregija</th>\n",
       "      <th>barva</th>\n",
       "      <th>alkohol</th>\n",
       "      <th>zamasek</th>\n",
       "      <th>opis</th>\n",
       "      <th>recenzija</th>\n",
       "      <th>popularnost</th>\n",
       "    </tr>\n",
       "    <tr>\n",
       "      <th>id</th>\n",
       "      <th></th>\n",
       "      <th></th>\n",
       "      <th></th>\n",
       "      <th></th>\n",
       "      <th></th>\n",
       "      <th></th>\n",
       "      <th></th>\n",
       "      <th></th>\n",
       "      <th></th>\n",
       "      <th></th>\n",
       "      <th></th>\n",
       "      <th></th>\n",
       "      <th></th>\n",
       "      <th></th>\n",
       "      <th></th>\n",
       "      <th></th>\n",
       "      <th></th>\n",
       "    </tr>\n",
       "  </thead>\n",
       "  <tbody>\n",
       "    <tr>\n",
       "      <th>115339</th>\n",
       "      <td>2016.0</td>\n",
       "      <td>Krasno Sauvignonasse</td>\n",
       "      <td>Sauvignon Blanc</td>\n",
       "      <td>Slovenia</td>\n",
       "      <td>750</td>\n",
       "      <td>15.99</td>\n",
       "      <td>20.00</td>\n",
       "      <td>NaN</td>\n",
       "      <td>NaN</td>\n",
       "      <td>Slovenia</td>\n",
       "      <td>Slovenia</td>\n",
       "      <td>White</td>\n",
       "      <td>13.5</td>\n",
       "      <td>Cork</td>\n",
       "      <td>An indigenous variety from Brda. Field flowers...</td>\n",
       "      <td>NaN</td>\n",
       "      <td>1937</td>\n",
       "    </tr>\n",
       "    <tr>\n",
       "      <th>116811</th>\n",
       "      <td>NaN</td>\n",
       "      <td>Rasno Goriska Brda Sparkling Rebula</td>\n",
       "      <td>Ribolla Gialla</td>\n",
       "      <td>Slovenia</td>\n",
       "      <td>750</td>\n",
       "      <td>14.99</td>\n",
       "      <td>20.00</td>\n",
       "      <td>NaN</td>\n",
       "      <td>NaN</td>\n",
       "      <td>Slovenia</td>\n",
       "      <td>Slovenia</td>\n",
       "      <td>White</td>\n",
       "      <td>12.0</td>\n",
       "      <td>Cork</td>\n",
       "      <td>Hints of mediterranean herbs lead to a palate ...</td>\n",
       "      <td>NaN</td>\n",
       "      <td>836</td>\n",
       "    </tr>\n",
       "    <tr>\n",
       "      <th>85439</th>\n",
       "      <td>NaN</td>\n",
       "      <td>Avia Riesling</td>\n",
       "      <td>Riesling</td>\n",
       "      <td>Slovenia</td>\n",
       "      <td>750</td>\n",
       "      <td>4.98</td>\n",
       "      <td>6.49</td>\n",
       "      <td>NaN</td>\n",
       "      <td>NaN</td>\n",
       "      <td>Slovenia</td>\n",
       "      <td>Slovenia</td>\n",
       "      <td>White</td>\n",
       "      <td>12.0</td>\n",
       "      <td>Screwtop</td>\n",
       "      <td>Floral, Pleasant apple and melon notes and lig...</td>\n",
       "      <td>NaN</td>\n",
       "      <td>2231</td>\n",
       "    </tr>\n",
       "  </tbody>\n",
       "</table>\n",
       "</div>"
      ],
      "text/plain": [
       "          leto                                  ime            sorta  \\\n",
       "id                                                                     \n",
       "115339  2016.0                 Krasno Sauvignonasse  Sauvignon Blanc   \n",
       "116811     NaN  Rasno Goriska Brda Sparkling Rebula   Ribolla Gialla   \n",
       "85439      NaN                        Avia Riesling         Riesling   \n",
       "\n",
       "          drzava  velikost  znizana_cena   cena  ocena ocenjevalec    regija  \\\n",
       "id                                                                             \n",
       "115339  Slovenia       750         15.99  20.00    NaN         NaN  Slovenia   \n",
       "116811  Slovenia       750         14.99  20.00    NaN         NaN  Slovenia   \n",
       "85439   Slovenia       750          4.98   6.49    NaN         NaN  Slovenia   \n",
       "\n",
       "       podregija  barva  alkohol   zamasek  \\\n",
       "id                                           \n",
       "115339  Slovenia  White     13.5      Cork   \n",
       "116811  Slovenia  White     12.0      Cork   \n",
       "85439   Slovenia  White     12.0  Screwtop   \n",
       "\n",
       "                                                     opis recenzija  \\\n",
       "id                                                                    \n",
       "115339  An indigenous variety from Brda. Field flowers...       NaN   \n",
       "116811  Hints of mediterranean herbs lead to a palate ...       NaN   \n",
       "85439   Floral, Pleasant apple and melon notes and lig...       NaN   \n",
       "\n",
       "        popularnost  \n",
       "id                   \n",
       "115339         1937  \n",
       "116811          836  \n",
       "85439          2231  "
      ]
     },
     "execution_count": 19,
     "metadata": {},
     "output_type": "execute_result"
    }
   ],
   "source": [
    "# kot zanimivost\n",
    "vina[vina.drzava == 'Slovenia']"
   ]
  },
  {
   "cell_type": "code",
   "execution_count": 20,
   "metadata": {},
   "outputs": [
    {
     "data": {
      "image/png": "[encoded data removed]",
      "text/plain": [
       "<Figure size 432x288 with 1 Axes>"
      ]
     },
     "metadata": {
      "needs_background": "light"
     },
     "output_type": "display_data"
    }
   ],
   "source": [
    "vina.groupby(['drzava', 'regija']).count()['popularnost'].sort_values().unstack(level=1).plot.bar(\n",
    "    stacked=True, legend=False, title='Količina vin po regijah glede na državo');"
   ]
  },
  {
   "cell_type": "markdown",
   "metadata": {},
   "source": [
    "Vidimo, da v ZDA prevladuje ena regija - California, medtem ko imajo druge velike vinske dežele več močnih regij. To je verjetno posledica podnebja - večji del npr. Italije in Francije ima ugodno podnebje (in prst) za vinske trte kot pa ZDA."
   ]
  },
  {
   "cell_type": "markdown",
   "metadata": {},
   "source": [
    "### Okusi\n",
    "\n",
    "Zanima nas kateri okusi so najbolj popularni oz. najdražji. "
   ]
  },
  {
   "cell_type": "code",
   "execution_count": 21,
   "metadata": {},
   "outputs": [
    {
     "data": {
      "text/plain": [
       "okus\n",
       "orchard           3\n",
       "flowers           3\n",
       "herbs             4\n",
       "candy             4\n",
       "kirsch            4\n",
       "              ...  \n",
       "pepper        11066\n",
       "blackberry    12254\n",
       "currant       13151\n",
       "vanilla       14183\n",
       "cherry        17553\n",
       "Length: 220, dtype: int64"
      ]
     },
     "execution_count": 21,
     "metadata": {},
     "output_type": "execute_result"
    }
   ],
   "source": [
    "master.groupby('okus').size().sort_values()"
   ]
  },
  {
   "cell_type": "code",
   "execution_count": 22,
   "metadata": {},
   "outputs": [
    {
     "data": {
      "image/png": "[encoded data removed]",
      "text/plain": [
       "<Figure size 1080x360 with 3 Axes>"
      ]
     },
     "metadata": {
      "needs_background": "light"
     },
     "output_type": "display_data"
    }
   ],
   "source": [
    "plt.figure(figsize = (15, 5))\n",
    "\n",
    "plt.subplot(1, 3, 1)\n",
    "master.groupby('okus').mean().sort_values('cena')['cena'].plot(title='Okusi in cene');\n",
    "\n",
    "plt.subplot(1, 3, 2)\n",
    "master[master.ocena > 10].groupby('okus').mean().sort_values('ocena')['ocena'].plot(title='Okusi in ocene');\n",
    "\n",
    "plt.subplot(1, 3, 3)\n",
    "master.groupby('okus').mean().sort_values('popularnost')['popularnost'].plot(title='Okusi in popularnost');"
   ]
  },
  {
   "cell_type": "markdown",
   "metadata": {},
   "source": [
    "Iz prvega grafa vidimo, da \"slabi\" okusi prinesejo nizko ceno in dobri visoko, velja pa skoraj nekakšna linearna odvisnost. Bolj zanimiv je drugi graf, ki pokaže da večina okusov dobi oceno okoli 92, potem pa imamo nekaj okusov, ki izstopajo navzgor in navzdol (primeri so tudi navedeni pod x osjo). Tretji graf ima podoben trend kot drugi, le da je manj izrazit. \n",
    "\n",
    "Čeprav so grafi malo nekonvencionalni, se nam vseeno zdijo zanimivi primerki okusov, ki jih vidimo na x osi. "
   ]
  },
  {
   "cell_type": "markdown",
   "metadata": {},
   "source": [
    "## Klasifikacija barve iz opisa\n",
    "\n",
    "Za konec si poglejmo, kako dobro lahko napovemo barvo vina iz njegovega opisa. Seveda gre za klasifikacijski problem in zato bomo uporabili naivni Bayesov klasifikator, ki smo ga spoznali na predavanjih."
   ]
  },
  {
   "cell_type": "code",
   "execution_count": 23,
   "metadata": {},
   "outputs": [],
   "source": [
    "def koren_besede(beseda):\n",
    "    beseda = ''.join(znak for znak in beseda if znak.isalpha())\n",
    "    if not beseda:\n",
    "        return '$'\n",
    "    konec = len(beseda) - 1\n",
    "    if beseda[konec] in 'ds':\n",
    "        konec -= 1\n",
    "    while konec >= 0 and beseda[konec] in 'aeiou':\n",
    "        konec -= 1\n",
    "    return beseda[:konec + 1]\n",
    "\n",
    "def koreni_besed(niz):\n",
    "    niz = str(niz)\n",
    "    return pd.Series(sorted({\n",
    "        koren_besede(beseda) for beseda in niz.replace('-', ' ').lower().split() if beseda\n",
    "    }))"
   ]
  },
  {
   "cell_type": "code",
   "execution_count": 24,
   "metadata": {
    "scrolled": true
   },
   "outputs": [
    {
     "data": {
      "text/plain": [
       "barva\n",
       "Mixed     0.001325\n",
       "Orange    0.002649\n",
       "Rose      0.056071\n",
       "White     0.367329\n",
       "Red       0.572627\n",
       "dtype: float64"
      ]
     },
     "execution_count": 24,
     "metadata": {},
     "output_type": "execute_result"
    }
   ],
   "source": [
    "verjetnosti_barv = vina.groupby('barva').size() / len(vina)\n",
    "verjetnosti_barv.sort_values()"
   ]
  },
  {
   "cell_type": "code",
   "execution_count": 25,
   "metadata": {},
   "outputs": [
    {
     "data": {
      "text/plain": [
       "koren\n",
       "an        0.931288\n",
       "th        0.886817\n",
       "          0.885615\n",
       "of        0.844750\n",
       "with      0.718548\n",
       "win       0.595952\n",
       "in        0.545471\n",
       "t         0.473356\n",
       "on        0.462538\n",
       "winery    0.401240\n",
       "$         0.390423\n",
       "it        0.378404\n",
       "fruit     0.376000\n",
       "from      0.368788\n",
       "not       0.360375\n",
       "ar        0.356769\n",
       "for       0.318308\n",
       "that      0.314702\n",
       "flavor    0.297875\n",
       "finish    0.293067\n",
       "Name: White, dtype: float64"
      ]
     },
     "execution_count": 25,
     "metadata": {},
     "output_type": "execute_result"
    }
   ],
   "source": [
    "koreni_vin = vina.opis.apply(\n",
    "    koreni_besed\n",
    ").stack(\n",
    ").reset_index(\n",
    "    level='id'\n",
    ").rename(columns={\n",
    "    'id': 'vino',\n",
    "    0: 'koren',\n",
    "})\n",
    "\n",
    "koreni_barv = pd.merge(koreni_vin, vina.barva, left_on='vino', right_on='id')[['koren', 'barva']]\n",
    "pojavitve_korenov_po_barvah = pd.crosstab(koreni_barv.koren, koreni_barv.barva)\n",
    "verjetnosti_korenov_po_barvah = pojavitve_korenov_po_barvah / vina.groupby('barva').size() + 0.001\n",
    "\n",
    "verjetnosti_korenov_po_barvah.White.sort_values(ascending=False).head(20)"
   ]
  },
  {
   "cell_type": "code",
   "execution_count": 26,
   "metadata": {},
   "outputs": [],
   "source": [
    "def doloci_barvo(opis):\n",
    "    faktorji_barv = verjetnosti_barv * verjetnosti_korenov_po_barvah[\n",
    "        verjetnosti_korenov_po_barvah.index.isin(\n",
    "            koreni_besed(opis)\n",
    "        )\n",
    "    ].prod()\n",
    "    faktorji_barv /= max(faktorji_barv)\n",
    "    return faktorji_barv.sort_values(ascending=False).head(5)"
   ]
  },
  {
   "cell_type": "code",
   "execution_count": 27,
   "metadata": {},
   "outputs": [
    {
     "data": {
      "text/plain": [
       "barva\n",
       "Red       1.000000e+00\n",
       "White     2.056097e-02\n",
       "Rose      6.010482e-03\n",
       "Orange    7.248660e-06\n",
       "Mixed     1.084047e-08\n",
       "dtype: float64"
      ]
     },
     "execution_count": 27,
     "metadata": {},
     "output_type": "execute_result"
    }
   ],
   "source": [
    "doloci_barvo('A deep velvety colour.')"
   ]
  },
  {
   "cell_type": "markdown",
   "metadata": {},
   "source": [
    "## Zaključek\n",
    "\n",
    "Nekaj hipotez smo potrdili in nekaj smo jih ovrgli. Na žalost smo imeli problem s precej neuravnoteženim vzorcem - velika koncentracija vin z nekaterimi specifičnimi lastnostmi in zelo malo vin z redkejšimi lastnostmi. Vseeno smo ugotovili nekaj zanimivih stvari.\n",
    "\n",
    "Napačno smo mislili, da bo belo vino najbolj popularno, smo pa pravilno predpostavili dominantnost 750 ml velike buteljke. Ugotovili smo, da na ameriški strani prodajajo največ ameriških vin in da imajo ljudje očitno radi vina s priokusi vanilije in majhnih sadežev."
   ]
  }
 ],
 "metadata": {
  "kernelspec": {
   "display_name": "Python 3",
   "language": "python",
   "name": "python3"
  },
  "language_info": {
   "codemirror_mode": {
    "name": "ipython",
    "version": 3
   },
   "file_extension": ".py",
   "mimetype": "text/x-python",
   "name": "python",
   "nbconvert_exporter": "python",
   "pygments_lexer": "ipython3",
   "version": "3.9.1"
  }
 },
 "nbformat": 4,
 "nbformat_minor": 4
}
